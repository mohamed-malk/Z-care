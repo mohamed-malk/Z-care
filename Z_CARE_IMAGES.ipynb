{
  "cells": [
    {
      "cell_type": "markdown",
      "metadata": {
        "id": "view-in-github",
        "colab_type": "text"
      },
      "source": [
        "<a href=\"https://colab.research.google.com/github/mohamed-malk/Z-care/blob/ml-model-branch/Z_CARE_IMAGES.ipynb\" target=\"_parent\"><img src=\"https://colab.research.google.com/assets/colab-badge.svg\" alt=\"Open In Colab\"/></a>"
      ]
    },
    {
      "cell_type": "markdown",
      "source": [
        "# Connect "
      ],
      "metadata": {
        "id": "ttka7RHwGI5z"
      }
    },
    {
      "cell_type": "code",
      "source": [
        "from google.colab import drive\n",
        "drive.mount('/content/drive')\n",
        "%cd /content/drive/MyDrive/Graduation Project Repo"
      ],
      "metadata": {
        "id": "dM5I3X3VFRff",
        "outputId": "dfeddb4a-be2f-4128-bf7e-f1b65bf167dc",
        "colab": {
          "base_uri": "https://localhost:8080/"
        }
      },
      "execution_count": 6,
      "outputs": [
        {
          "output_type": "stream",
          "name": "stdout",
          "text": [
            "Drive already mounted at /content/drive; to attempt to forcibly remount, call drive.mount(\"/content/drive\", force_remount=True).\n",
            "/content/drive/MyDrive/Graduation Project Repo\n"
          ]
        }
      ]
    },
    {
      "cell_type": "code",
      "source": [
        "! git pull origin"
      ],
      "metadata": {
        "id": "3Rh2qARwE_7k",
        "outputId": "78ba45f4-c881-47de-fbaf-a7b825ef440c",
        "colab": {
          "base_uri": "https://localhost:8080/"
        }
      },
      "execution_count": 7,
      "outputs": [
        {
          "output_type": "stream",
          "name": "stdout",
          "text": [
            "remote: Enumerating objects: 3, done.\u001b[K\n",
            "remote: Counting objects:  33% (1/3)\u001b[K\rremote: Counting objects:  66% (2/3)\u001b[K\rremote: Counting objects: 100% (3/3)\u001b[K\rremote: Counting objects: 100% (3/3), done.\u001b[K\n",
            "remote: Compressing objects:  33% (1/3)\u001b[K\rremote: Compressing objects:  66% (2/3)\u001b[K\rremote: Compressing objects: 100% (3/3)\u001b[K\rremote: Compressing objects: 100% (3/3), done.\u001b[K\n",
            "remote: Total 3 (delta 0), reused 0 (delta 0), pack-reused 0\u001b[K\n",
            "Unpacking objects: 100% (3/3), 30.75 KiB | 37.00 KiB/s, done.\n",
            "From https://github.com/mohamed-malk/Z-care\n",
            "   02da18a..d426bb3  ml-model-branch -> origin/ml-model-branch\n",
            "Updating 02da18a..d426bb3\n",
            "Fast-forward\n",
            " Z_CARE_IMAGES.ipynb | 433 \u001b[32m+++++++++++\u001b[m\u001b[31m-----------------------------------------\u001b[m\n",
            " 1 file changed, 92 insertions(+), 341 deletions(-)\n"
          ]
        }
      ]
    },
    {
      "cell_type": "code",
      "source": [
        "! git log"
      ],
      "metadata": {
        "id": "kqK4qJSkJKM8",
        "outputId": "f13c4ccb-c437-4ec1-e067-837a93f5cb64",
        "colab": {
          "base_uri": "https://localhost:8080/"
        }
      },
      "execution_count": 8,
      "outputs": [
        {
          "output_type": "stream",
          "name": "stdout",
          "text": [
            "\u001b[33mcommit d426bb3e642112384c77858bccf4218e8fb4c8f6\u001b[m\u001b[33m (\u001b[m\u001b[1;36mHEAD -> \u001b[m\u001b[1;32mml-model-branch\u001b[m\u001b[33m, \u001b[m\u001b[1;31morigin/ml-model-branch\u001b[m\u001b[33m)\u001b[m\n",
            "Author: Mohamed Yasser Ali <110128683+mohamed-malk@users.noreply.github.com>\n",
            "Date:   Fri Feb 24 03:48:51 2023 +0200\n",
            "\n",
            "    Z_CARE_IMAGES - v1\n",
            "\n",
            "\u001b[33mcommit 02da18a07553ca3dc542ebb9b4e82202a81e693e\u001b[m\n",
            "Author: Mohamed Yasser Ali <110128683+mohamed-malk@users.noreply.github.com>\n",
            "Date:   Fri Feb 24 03:23:17 2023 +0200\n",
            "\n",
            "    Add Z_CARE_IMAGES - v0\n",
            "\n",
            "\u001b[33mcommit 16ea736de008f4ba787fc05079e4c508b29f5359\u001b[m\n",
            "Author: mohamed-malk <my1379@fayoum.edu.eg>\n",
            "Date:   Fri Feb 24 01:03:13 2023 +0000\n",
            "\n",
            "    Add DataSet I\n",
            "\n",
            "\u001b[33mcommit 7570b2b081e1a2a5fe149bfdeee845da4d29d6a2\u001b[m\u001b[33m (\u001b[m\u001b[1;31morigin/flutter-branch\u001b[m\u001b[33m, \u001b[m\u001b[1;31morigin/backend-branch\u001b[m\u001b[33m, \u001b[m\u001b[1;32mmain\u001b[m\u001b[33m)\u001b[m\n",
            "Author: Mohamed Yasser Ali <110128683+mohamed-malk@users.noreply.github.com>\n",
            "Date:   Tue Feb 14 21:38:08 2023 +0200\n",
            "\n",
            "    init commit\n",
            "\n",
            "\u001b[33mcommit 0c7683746c04bac0f699594390982e4cc1b36037\u001b[m\n",
            "Author: Mohamed Yasser Ali <110128683+mohamed-malk@users.noreply.github.com>\n",
            "Date:   Tue Feb 14 21:22:47 2023 +0200\n",
            "\n",
            "    Initial commit\n"
          ]
        }
      ]
    },
    {
      "cell_type": "code",
      "source": [
        "print(\"version 1\")"
      ],
      "metadata": {
        "id": "KFUNzWIJGzRw",
        "outputId": "26eac4dd-82c9-4acf-eff2-418d28ace834",
        "colab": {
          "base_uri": "https://localhost:8080/"
        }
      },
      "execution_count": null,
      "outputs": [
        {
          "output_type": "stream",
          "name": "stdout",
          "text": [
            "version 1\n"
          ]
        }
      ]
    },
    {
      "cell_type": "markdown",
      "metadata": {
        "id": "CeNwQ8AUIv1Z"
      },
      "source": [
        "# 1. import libraries"
      ]
    },
    {
      "cell_type": "code",
      "execution_count": null,
      "metadata": {
        "colab": {
          "base_uri": "https://localhost:8080/"
        },
        "id": "JAAi-wytI3xC",
        "outputId": "714bf660-ea53-45e2-c035-46a708e157c1"
      },
      "outputs": [
        {
          "output_type": "stream",
          "name": "stdout",
          "text": [
            "Looking in indexes: https://pypi.org/simple, https://us-python.pkg.dev/colab-wheels/public/simple/\n",
            "\u001b[31mERROR: Could not find a version that satisfies the requirement splitfolders (from versions: none)\u001b[0m\u001b[31m\n",
            "\u001b[0m\u001b[31mERROR: No matching distribution found for splitfolders\u001b[0m\u001b[31m\n",
            "\u001b[0mLooking in indexes: https://pypi.org/simple, https://us-python.pkg.dev/colab-wheels/public/simple/\n",
            "Collecting python_splitter\n",
            "  Downloading python_splitter-0.0.3-py3-none-any.whl (5.2 kB)\n",
            "Requirement already satisfied: numpy in /usr/local/lib/python3.8/dist-packages (from python_splitter) (1.21.6)\n",
            "Installing collected packages: python_splitter\n",
            "Successfully installed python_splitter-0.0.3\n"
          ]
        }
      ],
      "source": [
        "! pip install splitfolders\n",
        "! pip install python_splitter "
      ]
    },
    {
      "cell_type": "code",
      "execution_count": null,
      "metadata": {
        "id": "pWSImJODIv1b"
      },
      "outputs": [],
      "source": [
        "import numpy as np\n",
        "import nibabel as nib\n",
        "import matplotlib.pyplot as plt\n",
        "from ipywidgets import interact, interactive, IntSlider, ToggleButtons\n",
        "from sklearn.preprocessing import MinMaxScaler #to scale image pixels\n",
        "import os\n",
        "import pandas as pd\n",
        "scaler = MinMaxScaler()"
      ]
    },
    {
      "cell_type": "code",
      "execution_count": null,
      "metadata": {
        "colab": {
          "base_uri": "https://localhost:8080/"
        },
        "id": "Y-fMuhrJJ9Tu",
        "outputId": "c3c34050-b766-449d-9fe1-b08d77d51d94"
      },
      "outputs": [
        {
          "output_type": "stream",
          "name": "stdout",
          "text": [
            "Mounted at /ShardDrives/\n"
          ]
        }
      ],
      "source": [
        "from google.colab import drive\n",
        "# drive.mount('/content/drive')\n",
        "drive.mount('/ShardDrives/')"
      ]
    },
    {
      "cell_type": "code",
      "source": [
        "%cd /ShardDrives/Shareddrives"
      ],
      "metadata": {
        "colab": {
          "base_uri": "https://localhost:8080/"
        },
        "id": "_5gEKxGWvXh2",
        "outputId": "d11bf95e-fd82-4f71-f64f-9a04a5fe0892"
      },
      "execution_count": null,
      "outputs": [
        {
          "output_type": "stream",
          "name": "stdout",
          "text": [
            "[Errno 2] No such file or directory: '/ShardDrives/Shareddrives'\n",
            "/content\n"
          ]
        }
      ]
    },
    {
      "cell_type": "code",
      "source": [
        "%ls"
      ],
      "metadata": {
        "id": "kGtB5oGUvf3-"
      },
      "execution_count": null,
      "outputs": []
    },
    {
      "cell_type": "code",
      "execution_count": null,
      "metadata": {
        "id": "__pJ0yO_v7H-"
      },
      "outputs": [],
      "source": [
        "import os\n",
        "# os.chdir(r\"/content/drive/My Drive\")"
      ]
    },
    {
      "cell_type": "markdown",
      "metadata": {
        "id": "qgzdIw9-Iv1d"
      },
      "source": [
        "# 2. initial understanding of the dataset"
      ]
    },
    {
      "cell_type": "code",
      "execution_count": null,
      "metadata": {
        "colab": {
          "base_uri": "https://localhost:8080/",
          "height": 252
        },
        "id": "8v2rOIPJIv1d",
        "outputId": "e06c0081-8d43-40f3-c971-9871aa2f36cd"
      },
      "outputs": [
        {
          "output_type": "error",
          "ename": "FileNotFoundError",
          "evalue": "ignored",
          "traceback": [
            "\u001b[0;31m---------------------------------------------------------------------------\u001b[0m",
            "\u001b[0;31mFileNotFoundError\u001b[0m                         Traceback (most recent call last)",
            "\u001b[0;32m<ipython-input-10-e4fb5abf4f4d>\u001b[0m in \u001b[0;36m<module>\u001b[0;34m\u001b[0m\n\u001b[1;32m      1\u001b[0m \u001b[0mDATASET_PATH\u001b[0m \u001b[0;34m=\u001b[0m \u001b[0;34m\"https://drive.google.com/drive/folders/1TAo5Ron9MngYeh4fGhAKpFD_H-v3_6Dp?usp=sharing\"\u001b[0m\u001b[0;34m\u001b[0m\u001b[0;34m\u001b[0m\u001b[0m\n\u001b[1;32m      2\u001b[0m \u001b[0;34m\u001b[0m\u001b[0m\n\u001b[0;32m----> 3\u001b[0;31m \u001b[0mos\u001b[0m\u001b[0;34m.\u001b[0m\u001b[0mlistdir\u001b[0m\u001b[0;34m(\u001b[0m\u001b[0mDATASET_PATH\u001b[0m\u001b[0;34m)\u001b[0m\u001b[0;34m\u001b[0m\u001b[0;34m\u001b[0m\u001b[0m\n\u001b[0m\u001b[1;32m      4\u001b[0m \u001b[0;31m# #load single image as numpy array\u001b[0m\u001b[0;34m\u001b[0m\u001b[0;34m\u001b[0m\u001b[0;34m\u001b[0m\u001b[0m\n\u001b[1;32m      5\u001b[0m \u001b[0;31m# test_image_AD=nib.load( DATASET_PATH+ \"AD_T2/ADNI/002_S_0619/Axial_PD_T2_FSE/2006-06-01_20_16_38.0/S15207/ADNI_002_S_0619_MR_Axial_PD_T2_FSE__br_raw_20060605133200599_2_S15207_I16498.nii\").get_fdata()   # fdata Extract data as numpy ndarray\u001b[0m\u001b[0;34m\u001b[0m\u001b[0;34m\u001b[0m\u001b[0;34m\u001b[0m\u001b[0m\n",
            "\u001b[0;31mFileNotFoundError\u001b[0m: [Errno 2] No such file or directory: 'https://drive.google.com/drive/folders/1TAo5Ron9MngYeh4fGhAKpFD_H-v3_6Dp?usp=sharing'"
          ]
        }
      ],
      "source": [
        "DATASET_PATH = \"C:/Users/jasmine/Desktop/graduation project/data/\"\n",
        "\n",
        "#load single image as numpy array\n",
        "test_image_AD=nib.load( DATASET_PATH+ \"AD_T2/ADNI/002_S_0619/Axial_PD_T2_FSE/2006-06-01_20_16_38.0/S15207/ADNI_002_S_0619_MR_Axial_PD_T2_FSE__br_raw_20060605133200599_2_S15207_I16498.nii\").get_fdata()   # fdata Extract data as numpy ndarray\n",
        "print(test_image_AD.max())  # we know that we need scale max=,min=0\n",
        "print(test_image_AD.min())\n",
        "print(test_image_AD.shape) # get dimentions of image(height, width, depth)"
      ]
    },
    {
      "cell_type": "markdown",
      "metadata": {
        "id": "yQgMPCxoIv1e"
      },
      "source": [
        "### scaling"
      ]
    },
    {
      "cell_type": "code",
      "execution_count": null,
      "metadata": {
        "colab": {
          "base_uri": "https://localhost:8080/"
        },
        "id": "VVMttbEKIv1e",
        "outputId": "6111c911-c2ae-42ee-ef01-55c346430474"
      },
      "outputs": [
        {
          "name": "stdout",
          "output_type": "stream",
          "text": [
            "AD MAX 1.0\n",
            "AD SHAPE (256, 256, 54, 1)\n",
            "CN MAX 1.0\n",
            "CN SHAPE (256, 256, 52, 1)\n",
            "MCI MAX 1.0\n",
            "MCI SHAPE (256, 256, 48, 1)\n"
          ]
        }
      ],
      "source": [
        "#Scalers are applied to 1D so let us reshape and then reshape back to original shape. \n",
        "test_image_AD=scaler.fit_transform(test_image_AD.reshape(-1, test_image_AD.shape[-1])).reshape(test_image_AD.shape)\n",
        "\n",
        "test_image_CN=nib.load(DATASET_PATH + \"CN_T2/ADNI/002_S_0295/Axial_PD_T2_FSE/2006-04-18_08_38_08.0/S13404/ADNI_002_S_0295_MR_Axial_PD_T2_FSE__br_raw_20060418201017471_2_S13404_I13723.nii\").get_fdata()\n",
        "test_image_CN=scaler.fit_transform(test_image_CN.reshape(-1, test_image_CN.shape[-1])).reshape(test_image_CN.shape)   #convert it to 1d and then to 3d again\n",
        "\n",
        "test_image_MCI=nib.load(DATASET_PATH + \"MCI_T2/ADNI/002_S_0729/Axial_PD_T2_FSE/2006-07-17_13_45_42.0/S16873/ADNI_002_S_0729_MR_Axial_PD_T2_FSE__br_raw_20060718015550509_2_S16873_I19059.nii\").get_fdata()\n",
        "test_image_MCI=scaler.fit_transform(test_image_MCI.reshape(-1, test_image_MCI.shape[-1])).reshape(test_image_MCI.shape)\n",
        "\n",
        "\n",
        "print(\"AD MAX\",test_image_AD.max())  # we know that we need scale max=,min=0\n",
        "print(\"AD SHAPE\",test_image_AD.shape)\n",
        "print(\"CN MAX\",test_image_CN.max())  # we know that we need scale max=,min=0\n",
        "print(\"CN SHAPE\",test_image_CN.shape)\n",
        "print(\"MCI MAX\",test_image_MCI.max())  # we know that we need scale max=,min=0\n",
        "print(\"MCI SHAPE\",test_image_MCI.shape)"
      ]
    },
    {
      "cell_type": "markdown",
      "metadata": {
        "id": "9TX0rlfXIv1e"
      },
      "source": [
        "### visualization"
      ]
    },
    {
      "cell_type": "code",
      "execution_count": null,
      "metadata": {
        "id": "RKCUJhcXIv1f"
      },
      "outputs": [],
      "source": [
        "# Define a function to visualize the data\n",
        "def explore_3dimage(layer):\n",
        "    plt.figure(figsize=(10, 8))\n",
        "    plt.subplot(231)\n",
        "    plt.imshow(test_image_CN[:,:,layer], cmap='gray')\n",
        "    plt.title('Image CN')\n",
        "    plt.subplot(232)\n",
        "    plt.imshow(test_image_MCI[:,:,layer], cmap='gray')\n",
        "    plt.title('Image MCI')\n",
        "    plt.subplot(233)\n",
        "    plt.imshow(test_image_AD[:,:,layer], cmap='gray')\n",
        "    plt.title('Image AD')\n",
        "    plt.show()\n",
        "    plt.title('Explore Layers of Brain MRI', fontsize=20)\n",
        "    plt.axis('off')\n",
        "    return layer"
      ]
    },
    {
      "cell_type": "code",
      "execution_count": null,
      "metadata": {
        "colab": {
          "base_uri": "https://localhost:8080/",
          "height": 766,
          "referenced_widgets": [
            "c1fc277439b64b43b1e2ebc6e496ad67",
            "12a8288766be42eba4df61ca00ea5bac",
            "77eabf1336f74af8bba1fb0ee380d952",
            "8a1b3b4c7add40248cbfae5736400457",
            "dcadffa0094a4aa6bf8ce98978029102",
            "e2ca04205cfc4690b2027385d2cfc2bb",
            "1cb28c58dd864a508cae516f3083c489",
            "da55d16651f84073b96f9845fccf78e8"
          ]
        },
        "id": "kgyY7fd0Iv1f",
        "outputId": "d8d61d13-70d9-4cfc-ecd2-0129f6df5ecf"
      },
      "outputs": [
        {
          "data": {
            "application/vnd.jupyter.widget-view+json": {
              "model_id": "da55d16651f84073b96f9845fccf78e8",
              "version_major": 2,
              "version_minor": 0
            },
            "text/plain": [
              "interactive(children=(IntSlider(value=23, description='layer', max=47), Output()), _dom_classes=('widget-inter…"
            ]
          },
          "metadata": {},
          "output_type": "display_data"
        }
      ],
      "source": [
        "\n",
        "# Run the ipywidgets interact() function to explore the data\n",
        "interact(explore_3dimage, layer=(0,47)); "
      ]
    },
    {
      "cell_type": "markdown",
      "source": [
        "# 3. preprocceing\n"
      ],
      "metadata": {
        "id": "OMFWMAQh2S3U"
      }
    },
    {
      "cell_type": "markdown",
      "source": [
        "## 3.1 slicing"
      ],
      "metadata": {
        "id": "Sux5AeTa2cWa"
      }
    },
    {
      "cell_type": "code",
      "source": [
        "def slicer(image):\n",
        "    slice_index= range(image.shape[2])\n",
        "    for ind in slice_index:\n",
        "        slice_=image[:,:,slice_index[ind]]\n",
        "        plt.figure(figsize=(5, 5))\n",
        "        plt.imshow(slice_, cmap='gray')\n",
        "    plt.show()\n",
        "\n",
        "    \n",
        "    ########### should return slice not print it need EDIT ##########\n"
      ],
      "metadata": {
        "id": "fB_T0G1t2hu3"
      },
      "execution_count": null,
      "outputs": []
    },
    {
      "cell_type": "markdown",
      "source": [
        "##### test slicer function"
      ],
      "metadata": {
        "id": "huLduOhz2ndi"
      }
    },
    {
      "cell_type": "code",
      "source": [
        "image_=slicer(test_image_AD)"
      ],
      "metadata": {
        "id": "lJycHRpC2oMt"
      },
      "execution_count": null,
      "outputs": []
    },
    {
      "cell_type": "markdown",
      "source": [
        "## 3.2 skull striiping in functions"
      ],
      "metadata": {
        "id": "NVH8fWI_2yuz"
      }
    },
    {
      "cell_type": "code",
      "source": [
        "def gausian_filter (image):\n",
        "    gaussian_smoothed = gaussian(image)\n",
        "    return gaussian_smoothed\n",
        "################################################\n",
        "\n",
        "def apply_conv(image,kernel):\n",
        "    conv_ = cv2.filter2D(image, -1, kernel, borderType=cv2.BORDER_CONSTANT)\n",
        "    return conv_\n",
        "#################################################-------------\n",
        "def threshold(image):\n",
        "    ##threshold image##\n",
        "    [r,c]=image.shape\n",
        "    for i in range(r) :\n",
        "        for j in range (c) :\n",
        "            if image[i,j]<=254: \n",
        "                image[i,j]=0\n",
        "            else:\n",
        "                image[i,j]=1\n",
        "    return image\n",
        "#################################################\n",
        "#def contour(image):\n",
        "    "
      ],
      "metadata": {
        "id": "bcO6Awrv20e4"
      },
      "execution_count": null,
      "outputs": []
    },
    {
      "cell_type": "code",
      "source": [
        "from google.colab import drive\n",
        "drive.mount('/content/drive')"
      ],
      "metadata": {
        "colab": {
          "base_uri": "https://localhost:8080/"
        },
        "id": "nrbUofKCroKM",
        "outputId": "f1360f72-0fbb-416d-c62c-2e108ebe332b"
      },
      "execution_count": null,
      "outputs": [
        {
          "output_type": "stream",
          "name": "stdout",
          "text": [
            "Mounted at /content/drive\n"
          ]
        }
      ]
    },
    {
      "cell_type": "markdown",
      "source": [
        "#### test of gausian function"
      ],
      "metadata": {
        "id": "Yv8Rswac270l"
      }
    },
    {
      "cell_type": "code",
      "source": [
        "image=test_image_AD [:, :, 20]\n",
        "smoothed=gausian_filter(image)\n",
        "plt.figure(figsize=(20, 20))\n",
        "plt.subplot(231)\n",
        "plt.imshow(smoothed, cmap='gray')\n",
        "plt.title('smooth')\n",
        "plt.subplot(232)\n",
        "plt.imshow(image, cmap='gray')\n",
        "plt.title('original')\n",
        "plt.show()"
      ],
      "metadata": {
        "id": "W1YMPt8028kp"
      },
      "execution_count": null,
      "outputs": []
    },
    {
      "cell_type": "markdown",
      "source": [
        "## 3.3 Skull Stripping"
      ],
      "metadata": {
        "id": "8fEXnfqN3TYp"
      }
    },
    {
      "cell_type": "code",
      "source": [
        "def skull_stripping(image):\n",
        "    kernel = np.ones((3,3),np.float32)/9    #Averaging filter with 3*3 kernel\n",
        "    gaussian_smoothed =gausian_filter(image) #I1\n",
        "    conv_ = apply_conv(gaussian_smoothed,kernel) #I2\n",
        "    th = threshold(conv_)\n",
        "    erosion = cv2.erode(th,kernel,iterations = 1) #I3\n",
        "    #contour=(erosion) #I4\n",
        "    #out_image=image*contour #I5=I*I4\n",
        "\n",
        "    return out_image"
      ],
      "metadata": {
        "id": "wZ5z25PB3ilM"
      },
      "execution_count": null,
      "outputs": []
    },
    {
      "cell_type": "markdown",
      "source": [
        "## 3.4 Segmentation"
      ],
      "metadata": {
        "id": "v6WIuix33prw"
      }
    },
    {
      "cell_type": "markdown",
      "source": [],
      "metadata": {
        "id": "979-P98nUc13"
      }
    },
    {
      "cell_type": "code",
      "source": [],
      "metadata": {
        "colab": {
          "base_uri": "https://localhost:8080/"
        },
        "id": "ziDExI5D05_r",
        "outputId": "4a0ee8b4-1e5e-4d7e-bb44-a39a0bd3d1d6"
      },
      "execution_count": null,
      "outputs": [
        {
          "output_type": "stream",
          "name": "stdout",
          "text": [
            "Initialized empty Git repository in /content/drive/MyDrive/Graduation Project Repo/.git/\n"
          ]
        }
      ]
    },
    {
      "cell_type": "markdown",
      "source": [
        "# Saving Changes"
      ],
      "metadata": {
        "id": "ROB3pmyVGVtC"
      }
    },
    {
      "cell_type": "code",
      "source": [
        "! git status "
      ],
      "metadata": {
        "id": "iZLiYHyZ_jJj"
      },
      "execution_count": null,
      "outputs": []
    },
    {
      "cell_type": "code",
      "source": [
        "! git add "
      ],
      "metadata": {
        "id": "kknEp_Ft78CR"
      },
      "execution_count": null,
      "outputs": []
    },
    {
      "cell_type": "code",
      "source": [
        "! git commit -m \"\""
      ],
      "metadata": {
        "id": "WPYKZj7S8YBz"
      },
      "execution_count": null,
      "outputs": []
    },
    {
      "cell_type": "code",
      "source": [
        "! git status"
      ],
      "metadata": {
        "colab": {
          "base_uri": "https://localhost:8080/"
        },
        "id": "4Oxs9lGs8hfD",
        "outputId": "e6643b11-33eb-472a-87ba-2c51e39d1ad9"
      },
      "execution_count": null,
      "outputs": [
        {
          "output_type": "stream",
          "name": "stdout",
          "text": [
            "On branch ml-model-branch\n",
            "Your branch is ahead of 'origin/ml-model-branch' by 1 commit.\n",
            "  (use \"git push\" to publish your local commits)\n",
            "\n",
            "Changes not staged for commit:\n",
            "  (use \"git add/rm <file>...\" to update what will be committed)\n",
            "  (use \"git restore <file>...\" to discard changes in working directory)\n",
            "\t\u001b[31mdeleted:    README.md\u001b[m\n",
            "\n",
            "no changes added to commit (use \"git add\" and/or \"git commit -a\")\n"
          ]
        }
      ]
    },
    {
      "cell_type": "code",
      "source": [
        "! git push origin ml-model-branch"
      ],
      "metadata": {
        "colab": {
          "base_uri": "https://localhost:8080/"
        },
        "id": "yCCjSODh804x",
        "outputId": "eecab502-d665-4f65-c247-5e51c83f95c9"
      },
      "execution_count": null,
      "outputs": [
        {
          "output_type": "stream",
          "name": "stdout",
          "text": [
            "Enumerating objects: 500, done.\n",
            "Counting objects: 100% (500/500), done.\n",
            "Delta compression using up to 2 threads\n",
            "Compressing objects: 100% (325/325), done.\n",
            "Writing objects: 100% (499/499), 421.84 MiB | 5.28 MiB/s, done.\n",
            "Total 499 (delta 0), reused 0 (delta 0)\n",
            "To https://github.com/mohamed-malk/Z-care.git\n",
            "   7570b2b..16ea736  ml-model-branch -> ml-model-branch\n"
          ]
        }
      ]
    }
  ],
  "metadata": {
    "accelerator": "GPU",
    "colab": {
      "provenance": [],
      "collapsed_sections": [
        "yQgMPCxoIv1e",
        "9TX0rlfXIv1e",
        "Sux5AeTa2cWa",
        "Yv8Rswac270l"
      ],
      "include_colab_link": true
    },
    "gpuClass": "standard",
    "kernelspec": {
      "display_name": "base",
      "language": "python",
      "name": "python3"
    },
    "language_info": {
      "codemirror_mode": {
        "name": "ipython",
        "version": 3
      },
      "file_extension": ".py",
      "mimetype": "text/x-python",
      "name": "python",
      "nbconvert_exporter": "python",
      "pygments_lexer": "ipython3",
      "version": "3.9.13 (main, Aug 25 2022, 23:51:50) [MSC v.1916 64 bit (AMD64)]"
    },
    "orig_nbformat": 4,
    "vscode": {
      "interpreter": {
        "hash": "e3cf56b806a1059392f4147a4f9f12eb2a37c4675323f98d43b801c03cfffefe"
      }
    },
    "widgets": {
      "application/vnd.jupyter.widget-state+json": {
        "12a8288766be42eba4df61ca00ea5bac": {
          "model_module": "@jupyter-widgets/controls",
          "model_module_version": "1.5.0",
          "model_name": "IntSliderModel",
          "state": {
            "_dom_classes": [],
            "_model_module": "@jupyter-widgets/controls",
            "_model_module_version": "1.5.0",
            "_model_name": "IntSliderModel",
            "_view_count": null,
            "_view_module": "@jupyter-widgets/controls",
            "_view_module_version": "1.5.0",
            "_view_name": "IntSliderView",
            "continuous_update": true,
            "description": "layer",
            "description_tooltip": null,
            "disabled": false,
            "layout": "IPY_MODEL_dcadffa0094a4aa6bf8ce98978029102",
            "max": 154,
            "min": 0,
            "orientation": "horizontal",
            "readout": true,
            "readout_format": "d",
            "step": 1,
            "style": "IPY_MODEL_e2ca04205cfc4690b2027385d2cfc2bb",
            "value": 14
          }
        },
        "1cb28c58dd864a508cae516f3083c489": {
          "model_module": "@jupyter-widgets/base",
          "model_module_version": "1.2.0",
          "model_name": "LayoutModel",
          "state": {
            "_model_module": "@jupyter-widgets/base",
            "_model_module_version": "1.2.0",
            "_model_name": "LayoutModel",
            "_view_count": null,
            "_view_module": "@jupyter-widgets/base",
            "_view_module_version": "1.2.0",
            "_view_name": "LayoutView",
            "align_content": null,
            "align_items": null,
            "align_self": null,
            "border": null,
            "bottom": null,
            "display": null,
            "flex": null,
            "flex_flow": null,
            "grid_area": null,
            "grid_auto_columns": null,
            "grid_auto_flow": null,
            "grid_auto_rows": null,
            "grid_column": null,
            "grid_gap": null,
            "grid_row": null,
            "grid_template_areas": null,
            "grid_template_columns": null,
            "grid_template_rows": null,
            "height": null,
            "justify_content": null,
            "justify_items": null,
            "left": null,
            "margin": null,
            "max_height": null,
            "max_width": null,
            "min_height": null,
            "min_width": null,
            "object_fit": null,
            "object_position": null,
            "order": null,
            "overflow": null,
            "overflow_x": null,
            "overflow_y": null,
            "padding": null,
            "right": null,
            "top": null,
            "visibility": null,
            "width": null
          }
        },
        "77eabf1336f74af8bba1fb0ee380d952": {
          "model_module": "@jupyter-widgets/output",
          "model_module_version": "1.0.0",
          "model_name": "OutputModel",
          "state": {
            "_dom_classes": [],
            "_model_module": "@jupyter-widgets/output",
            "_model_module_version": "1.0.0",
            "_model_name": "OutputModel",
            "_view_count": null,
            "_view_module": "@jupyter-widgets/output",
            "_view_module_version": "1.0.0",
            "_view_name": "OutputView",
            "layout": "IPY_MODEL_1cb28c58dd864a508cae516f3083c489",
            "msg_id": "",
            "outputs": [
              {
                "data": {
                  "image/png": "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\n",
                  "text/plain": "<Figure size 720x576 with 5 Axes>"
                },
                "metadata": {
                  "needs_background": "light"
                },
                "output_type": "display_data"
              },
              {
                "data": {
                  "image/png": "iVBORw0KGgoAAAANSUhEUgAAAV0AAAD8CAYAAADUv3dIAAAABHNCSVQICAgIfAhkiAAAAAlwSFlzAAALEgAACxIB0t1+/AAAADh0RVh0U29mdHdhcmUAbWF0cGxvdGxpYiB2ZXJzaW9uMy4yLjIsIGh0dHA6Ly9tYXRwbG90bGliLm9yZy+WH4yJAAAQvElEQVR4nO3cfbRcVX3G8edJ5E2Qt8i7kkCBKki1CxDBAMGyRAQKESliXRIsFLva+ooFbdFgl8qCWlpEkNLSK10KWORVqLQ1vRSwpSiQAvISIhcjGhEIRAsBAr/+sfeY4+TM3LmX5Hdvwvez1qwh52Wffc7seebsffbFESEAQI4pE10BAHg5IXQBIBGhCwCJCF0ASEToAkAiQhcAEhG6Y2B7xPbIRNcDE8v2xrbPqe1hue2w/aaJrtcgbM+p9Z0z0XV5uZq0oVsbxmivWRNdz8ms8QUbmui6rGXOlPSnku6S9AVJp0ta3G8H28Mt7Xe57Z/Zvs72IQn1TmF7qHGOn+2z3XGN7Ya71s1quV7P2/6J7Sts79+jzEnf5l8x0RUYwOl91o1kVQJoOEzSAxFx+Dj2/apWtNsNJP2mpEMlvdP2SRHxd6umij1dKem/Jf10NR9HkpZLOt726RHxQsv6E+s2/XLoYUlD9b9fKWkPSbMlHWn7mIj451VY3xSTPnQjYu5E1wHosq2k/xznvkMRMdxcYPsoSZdL+pSk1Rq6EfGUpKdW5zEaviXpSEnvkHRdc4Xt10t6q8qPwOw+ZYx0Z4DtU1V6GGdKWuNCd9IOL4yF7R1sP2n7CdvTu9ZtaPte2y80hyMaXaAdbX/M9n22l9n+se2zbW88huOvZ/tU23fZftr2Uts32f69lm1ndLo/tnexfZntR22/2FW/g21fb/sx28/aXmj7LNubju8qjXoOm9j+hO159Ro8Z/vntq+xvU/XtpvV81xo2z3Ku7ae555dy/e2fbntxfUYi2xfYHvbljI6XfJ1bX/a9v31WgzV9eva/pDt220vqXUasX217YPGcO7b2P5y3bdz3lfY3qOtPpIs6YBeXeNx+Nf6vkXX8UZtK7b3sP23tufX9r/M9gLbX7S9Wcu5to7p1nMfqd+Xs2z/qF7rB22f0utzHsXXJD2jckfbrbPs78dR7j/U9xm2Xz2O/SfUpL/THUREPGT7BJVfva/bPiAiltfV50l6naS53XcY1dmS9pf0DUlXSzpY0kck7Wd7ZkQs63ds2+tKukHSAZLuk/RllW7QuyVdZvtNEfGpll1/Q9Ktkh5QaZwbSFpay/yMpLmSnlC5W3hU0m9JOlmlG7pPRCwd7bqM0eslfU7lDu46SUskbS/pdyUdYvvwiPi2JEXEEtuXSjpe0kGS/q1ZkO3XSjpE0vcj4nuN5R9QuZN7VtI1khZJ2lnSCZIOt/2WiPhRS92+KWkvSf8i6SqV6yGVbuexku6WdLHKF3xbSTNV7q7+fbSTtr2DpJvrfvMkXSLptZKOlnSo7aMi4luN4w1L+ox+vds7MtpxRtH5gfhej/U924pKeM2WdKPK+U5R6YJ/TOVz2zsifjFgPdZRacvbqlzr5Sp3qmdIWl/9h/raPKnynXyv7a0jYrFUblIkvb/W+YExltnt+Ze4f76ImJQvSVFfc3u8Tm3Z57y6zxfqv4+r/54naUrXtkN13WOSpjeWT1H5koek07r2GVHp7jSXfbJue72kVzSWb1m3D0n7NpbPaJzb51vO4cC67ruSNu1aN6euO3vAa9jZfmiAbTeR9OqW5a+R9BNJ93Yt37OWfXnLPnPruhMby3aR9JykByVt17X970h6QdKVXcuHazn/2123Wt8XVYJqaksdpg14jW6ox/jzruX7qoTO45I2ammbw2Nsz51zGWq04TMkXVGvyz2Sdu3ap29bqdtM73H+f1D3O6VHm5jT0rY77XiDrnb8ZH2tM+C5DtWyDlL5AQxJn2ysf09d9vuSdmq7npJm9brOkv6irrvrpbT5iXpNeAX6fHAxyuvJln3Wl3Rn/TL+iaRfqtwVbdOnYZzWsm7HGgIPtTTMka5lC+rxXtdSTqfhX9RY1vkiLZa0Xss+V9b1u/W4LndIenTAa7hKGqCkc2o523ctv03lTmPrxrKpKnewS9UIK5UeRUg6tMcxrlQJuVc1lg3XfY5o2X7juu4WSR7neb2mlvFwW6BI+qe6/v0tbXN4jMfqnEvb63GV8dz1uvbp21ZGOZ5Vxm7n9WgTc1radkjaqaWsr9Z1bxjw2J3v1kH13/dKWtj5nCR9R6UXt75GD90RrfiROlPlBirque3bcuxV0uZX52vSDy9ExMBjSRGxzPYxKnc/X1K5+O+OiH5Pam9sKeeHthepjBltGhFPtu1o+1UqjeaRiLivZZN59f23W9bNj4hnW5bvoxJkR9s+umX9upK2sD0tIh5vq9d42X6rpA/XOmxZj9W0naRm9/88SRdJ+oCkz9dl71QJs/Mj4peNbTvjwgfY3qvl8FuqBPYukr7fte5/ujeOiKW2r5V0uKQ7bX9T0k2Sbo2Ip/udZ0Pnc7kpItq6qfMkva9ud/GAZY7mwKjDXLbXUQnWj6gM7bzD9qyIeLFrn15tpVPGSSp3j7uq9ACaz2q2G0PdnoqIB1uWL6rvK40RD+hCSV+U9DbbD6v05r5Uv6+j7TtdZTinaYmkt0XEneOsz4Sa9KE7Dg+odEf3lfQDrXhI0cvPeixfrPKBb6LStWqzSX3vFeqd5W0Pv3rN65ym8rl0N7RuG6ncIa0StmerPEFfpjJGu1DS/6ncxc9SGbNer2u3S1W+TCfaPqOGxR/WdRd0bTutvn9ilKps1LKs17U6RtIpkt6rFeONy2xfLunkiOj12Xa8lM/vJatBv0DSH9t+o6T9VM7pkq5N+80BvkxlTPeHKs8kFquMmUslzLs/s356tfPO85GpYyir6WKVH+UTVHoVVgniQdwYEbMkyfbmko6SdK6ka23vFXWceE2yNobuqSqB+5ik3VTGXD/XZ/utJN3fsnzr+t5vek1n3dY91m/Tp4zoU+aUiNi8z3FXh79UGVvcMyLuba6wfYFK6P6aiHimziT4qKS3275H5QHarRExv2vzzjXYJMb4EDBqv7Ht+Kpdz/rwbn+V7uX7VO4g9xul6Jfy+a1qt6pMoXqzVg7d1vOvM0NmqzxAOyRWPDyW7SmS/mz1VHVsIuIx252pYUsl/VdE3D2Ocp6QdGF9eH2uSk/rXau0sgnWiiljHbb3lfRZlRB9Q30/3fbMPrutFCa2d1R5gj3Sa2hBkqI8FV4oaTvbO7dscmB9v32wM5BUJq5vZnu3MeyzKuwk6QctgTtF5WFIL+erhMJJKmPYU7XyXa5UzksaPQjHJSIWRcTXVGafPChppu1po+x2R32fabvtBmQ8n994dbruY/lO7lTfr2kGbvVmlVkOk8WFKnfdW2jwu9xevqLy4HF2HRJbo6w1oVvnJF6i8gDsPbVreYxK1+jrtWvS5sNuzO2tIXOWyrX5xwEOfZFKd+ks27/qftX5g6c1thnU2fX9wh5zVze0/ZYxlDeoEUk7N49Z52bOVRkrbBURC1QejBwm6YMqXdRLWzY9V2Ws+mzbu3SvrHNuBw5k21vY3r1l1YYqQxTLVe7ce4qIH6sMpcxQ6Yo3y99bZdhiicpDvtXG9gytuGMbHsOuI/V9Vld5W6pMXZxM/kPSESp3u23tY2BR/rqtM/zWrxc7KU364QXbc/usvqoxmH6RyrzSD3WWRcR82x9X+cIPqcw57XaLyoOYy1S6kQdLeqPKw5wzB6jiX6l0qY+QNN/29SrzdI9WeTh0ZkTcPEA5qnX+jlf8xc2CWt5DKkEyXeXO/GaVeaiDmunef4t+e0ScoxL2X5F0R30o9bxKd3dXSZ0HVr2cpzI9aCuVByTPtJzXfXWe7kWS7rH9bZXx93VUPrf9JP1cZU71ILardb1LZQx/kcqMhsNUhgvOicHmp35QpQ2cZfvtKg9hO/N0X5R0/IDlDGqOV/wRzDoqn+mRKj8W16rMQx7UbSp1f5ft76q0i61U2uP9KlP9JoU6RHTNKizyCpWZSgfYPjgibliFZa9eEz19otdLo08Z+9W0F5X/+UhIurpHWVfU9R9tLBuqy3aU9HGVP2xYJukRSX8jaeOWckbUNWWsLl9fZcrP3SoT9H+h8gU4tmXbGRpgSotKl/4bKl+c51QC6U5Jf60y7jrINZwzwDW8qmv7O1UeoD2mcoe3u1bMu53V4zhTa/16TnVrbLt7vfYPqzzweaJetwtUnkg3tx1W/b62lLOppE+rzDB4pJb107rPsRrDNDKVAD+/1um5eu5XSdqrT9scHmN7Hm659i+q3EnfpPIAcmrXPqO2FUmbq/zojdT2u1DlodUr29qr+k8ZW6lt13V9P/+W7YfUmDI2yrZjnqfb2Obwus1tLefX9/s1ka/OvLmXnXrnd5ykHSJiZGJrs2arY+APSrolIlbLmC2wtlhrxnQxoU5WGdc+d6IrAkx2k35MF5OT7e1VHjTtrPL/YJivNfD/+ARkI3QxXjuqPOx7WmUGwB/Fyn9JBaDLy3ZMFwAmAmO6AJCI0AWARIQuACQidAEgEaELAIkIXQBIROgCQCJCFwASEboAkIjQBYBEhC4AJCJ0ASARoQsAiQhdAEhE6AJAIkIXABIRugCQiNAFgESELgAkInQBIBGhCwCJCF0ASEToAkAiQhcAEhG6AJCI0AWARIQuACQidAEgEaELAIkIXQBIROgCQCJCFwASEboAkIjQBYBEhC4AJCJ0ASARoQsAiQhdAEhE6AJAIkIXABIRugCQiNAFgESELgAkInQBIBGhCwCJCF0ASEToAkAiQhcAEhG6AJCI0AWARIQuACQidAEgEaELAIkIXQBIROgCQCJCFwASEboAkIjQBYBEhC4AJCJ0ASARoQsAiQhdAEhE6AJAIkIXABIRugCQiNAFgESELgAkInQBIBGhCwCJCF0ASEToAkAiQhcAEhG6AJCI0AWARIQuACQidAEgEaELAIkIXQBIROgCQCJCFwASEboAkIjQBYBEhC4AJCJ0ASARoQsAiQhdAEhE6AJAIkIXABIRugCQiNAFgESELgAkInQBIBGhCwCJCF0ASEToAkAiQhcAEhG6AJCI0AWARIQuACQidAEgEaELAIkIXQBIROgCQCJCFwASEboAkIjQBYBEhC4AJCJ0ASARoQsAiQhdAEhE6AJAIkIXABIRugCQiNAFgESELgAkInQBIBGhCwCJCF0ASEToAkAiQhcAEhG6AJCI0AWARIQuACQidAEgEaELAIkIXQBIROgCQCJCFwASEboAkIjQBYBEhC4AJCJ0ASARoQsAiQhdAEhE6AJAIkIXABIRugCQiNAFgESELgAkInQBIBGhCwCJCF0ASEToAkAiQhcAEhG6AJCI0AWARIQuACQidAEgEaELAIkIXQBIROgCQCJCFwASEboAkIjQBYBEhC4AJCJ0ASARoQsAiQhdAEhE6AJAIkIXABIRugCQiNAFgESELgAkInQBIBGhCwCJCF0ASEToAkAiQhcAEhG6AJCI0AWARIQuACQidAEgEaELAIkIXQBIROgCQCJCFwASEboAkIjQBYBEhC4AJCJ0ASARoQsAiQhdAEhE6AJAIkIXABIRugCQiNAFgESELgAkInQBIBGhCwCJCF0ASEToAkAiQhcAEhG6AJCI0AWARIQuACQidAEgEaELAIkIXQBIROgCQCJCFwASEboAkIjQBYBEhC4AJCJ0ASARoQsAiQhdAEhE6AJAIkIXABIRugCQiNAFgESELgAkInQBIBGhCwCJCF0ASEToAkAiQhcAEhG6AJCI0AWARIQuACQidAEgEaELAIkIXQBIROgCQCJCFwASEboAkOj/AZUieYOjzOopAAAAAElFTkSuQmCC\n",
                  "text/plain": "<Figure size 432x288 with 1 Axes>"
                },
                "metadata": {
                  "needs_background": "light"
                },
                "output_type": "display_data"
              },
              {
                "data": {
                  "text/plain": "14"
                },
                "metadata": {},
                "output_type": "display_data"
              }
            ]
          }
        },
        "8a1b3b4c7add40248cbfae5736400457": {
          "model_module": "@jupyter-widgets/base",
          "model_module_version": "1.2.0",
          "model_name": "LayoutModel",
          "state": {
            "_model_module": "@jupyter-widgets/base",
            "_model_module_version": "1.2.0",
            "_model_name": "LayoutModel",
            "_view_count": null,
            "_view_module": "@jupyter-widgets/base",
            "_view_module_version": "1.2.0",
            "_view_name": "LayoutView",
            "align_content": null,
            "align_items": null,
            "align_self": null,
            "border": null,
            "bottom": null,
            "display": null,
            "flex": null,
            "flex_flow": null,
            "grid_area": null,
            "grid_auto_columns": null,
            "grid_auto_flow": null,
            "grid_auto_rows": null,
            "grid_column": null,
            "grid_gap": null,
            "grid_row": null,
            "grid_template_areas": null,
            "grid_template_columns": null,
            "grid_template_rows": null,
            "height": null,
            "justify_content": null,
            "justify_items": null,
            "left": null,
            "margin": null,
            "max_height": null,
            "max_width": null,
            "min_height": null,
            "min_width": null,
            "object_fit": null,
            "object_position": null,
            "order": null,
            "overflow": null,
            "overflow_x": null,
            "overflow_y": null,
            "padding": null,
            "right": null,
            "top": null,
            "visibility": null,
            "width": null
          }
        },
        "c1fc277439b64b43b1e2ebc6e496ad67": {
          "model_module": "@jupyter-widgets/controls",
          "model_module_version": "1.5.0",
          "model_name": "VBoxModel",
          "state": {
            "_dom_classes": [
              "widget-interact"
            ],
            "_model_module": "@jupyter-widgets/controls",
            "_model_module_version": "1.5.0",
            "_model_name": "VBoxModel",
            "_view_count": null,
            "_view_module": "@jupyter-widgets/controls",
            "_view_module_version": "1.5.0",
            "_view_name": "VBoxView",
            "box_style": "",
            "children": [
              "IPY_MODEL_12a8288766be42eba4df61ca00ea5bac",
              "IPY_MODEL_77eabf1336f74af8bba1fb0ee380d952"
            ],
            "layout": "IPY_MODEL_8a1b3b4c7add40248cbfae5736400457"
          }
        },
        "dcadffa0094a4aa6bf8ce98978029102": {
          "model_module": "@jupyter-widgets/base",
          "model_module_version": "1.2.0",
          "model_name": "LayoutModel",
          "state": {
            "_model_module": "@jupyter-widgets/base",
            "_model_module_version": "1.2.0",
            "_model_name": "LayoutModel",
            "_view_count": null,
            "_view_module": "@jupyter-widgets/base",
            "_view_module_version": "1.2.0",
            "_view_name": "LayoutView",
            "align_content": null,
            "align_items": null,
            "align_self": null,
            "border": null,
            "bottom": null,
            "display": null,
            "flex": null,
            "flex_flow": null,
            "grid_area": null,
            "grid_auto_columns": null,
            "grid_auto_flow": null,
            "grid_auto_rows": null,
            "grid_column": null,
            "grid_gap": null,
            "grid_row": null,
            "grid_template_areas": null,
            "grid_template_columns": null,
            "grid_template_rows": null,
            "height": null,
            "justify_content": null,
            "justify_items": null,
            "left": null,
            "margin": null,
            "max_height": null,
            "max_width": null,
            "min_height": null,
            "min_width": null,
            "object_fit": null,
            "object_position": null,
            "order": null,
            "overflow": null,
            "overflow_x": null,
            "overflow_y": null,
            "padding": null,
            "right": null,
            "top": null,
            "visibility": null,
            "width": null
          }
        },
        "e2ca04205cfc4690b2027385d2cfc2bb": {
          "model_module": "@jupyter-widgets/controls",
          "model_module_version": "1.5.0",
          "model_name": "SliderStyleModel",
          "state": {
            "_model_module": "@jupyter-widgets/controls",
            "_model_module_version": "1.5.0",
            "_model_name": "SliderStyleModel",
            "_view_count": null,
            "_view_module": "@jupyter-widgets/base",
            "_view_module_version": "1.2.0",
            "_view_name": "StyleView",
            "description_width": "",
            "handle_color": null
          }
        }
      }
    }
  },
  "nbformat": 4,
  "nbformat_minor": 0
}